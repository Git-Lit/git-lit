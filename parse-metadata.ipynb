{
 "cells": [
  {
   "cell_type": "code",
   "execution_count": 47,
   "metadata": {
    "collapsed": false
   },
   "outputs": [],
   "source": [
    "import lxml.etree\n",
    "import os\n",
    "from glob import glob"
   ]
  },
  {
   "cell_type": "code",
   "execution_count": 48,
   "metadata": {
    "collapsed": false
   },
   "outputs": [],
   "source": [
    "thisdir = os.listdir()\n",
    "\n",
    "if 'data' not in thisdir: \n",
    "    raise Exception(\"Can't find data directory.\")\n",
    "    \n",
    "textdirs = os.listdir('data')"
   ]
  },
  {
   "cell_type": "code",
   "execution_count": 49,
   "metadata": {
    "collapsed": false
   },
   "outputs": [],
   "source": [
    "def parseMetadata(textdir):\n",
    "    fullpath = 'data/' + textdir + '/metadata/' + textdir + '.xml'\n",
    "    return lxml.etree.parse(fullpath)"
   ]
  },
  {
   "cell_type": "code",
   "execution_count": 50,
   "metadata": {
    "collapsed": false
   },
   "outputs": [],
   "source": [
    "trees = [parseMetadata(textdir) for textdir in textdirs]"
   ]
  },
  {
   "cell_type": "code",
   "execution_count": 51,
   "metadata": {
    "collapsed": false
   },
   "outputs": [],
   "source": [
    "def getText(tree, xpath):\n",
    "    ns = {'MODS': 'http://www.loc.gov/mods/v3'}\n",
    "    out = tree.xpath(xpath + '/text()', namespaces=ns)\n",
    "    if isinstance(out, list): \n",
    "        if len(out) == 1: \n",
    "            # No sense having a list of length one. Get just the string. \n",
    "            out = out[0]\n",
    "    return out"
   ]
  },
  {
   "cell_type": "code",
   "execution_count": 52,
   "metadata": {
    "collapsed": false
   },
   "outputs": [],
   "source": [
    "def extractTitleAndAuthor(tree): \n",
    "    title = getText(tree, '//MODS:title')\n",
    "    author = getText(tree, '//MODS:name[@type=\"personal\"]/MODS:namePart')\n",
    "    print('Title: ' + title)\n",
    "    print('Author: ' + author)"
   ]
  },
  {
   "cell_type": "code",
   "execution_count": 45,
   "metadata": {
    "collapsed": false
   },
   "outputs": [
    {
     "name": "stdout",
     "output_type": "stream",
     "text": [
      "Title: Echoes of the War. [In verse.]\n",
      "Author: SALMOND, Charles Adamson.\n",
      "\n",
      "\n",
      "Title: A popular guide to the Geology of the Isle of Wight, with a note on its relation to that of the Isle of Purbeck ... Illustrated, etc\n",
      "Author: NORMAN, Mark William.\n",
      "\n",
      "\n",
      "Title: Die Entwickelung der Stadt Fellin und ihrer Verfassung\n",
      "Author: HOLST, C.\n",
      "\n",
      "\n",
      "Title: Chronicles of Casco Bay. [By D. C. Colesworthy.] no. 1\n",
      "Author: COLESWORTHY, Daniel Clement.\n",
      "\n",
      "\n"
     ]
    }
   ],
   "source": [
    "for tree in trees: \n",
    "    extractTitleAndAuthor(tree)\n",
    "    print('\\n')"
   ]
  },
  {
   "cell_type": "code",
   "execution_count": 60,
   "metadata": {
    "collapsed": false
   },
   "outputs": [],
   "source": []
  }
 ],
 "metadata": {
  "kernelspec": {
   "display_name": "Python 3",
   "language": "python",
   "name": "python3"
  },
  "language_info": {
   "codemirror_mode": {
    "name": "ipython",
    "version": 3
   },
   "file_extension": ".py",
   "mimetype": "text/x-python",
   "name": "python",
   "nbconvert_exporter": "python",
   "pygments_lexer": "ipython3",
   "version": "3.4.3"
  }
 },
 "nbformat": 4,
 "nbformat_minor": 0
}
