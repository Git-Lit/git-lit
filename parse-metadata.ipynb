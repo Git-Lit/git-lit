{
 "cells": [
  {
   "cell_type": "code",
   "execution_count": 47,
   "metadata": {
    "collapsed": false
   },
   "outputs": [],
   "source": [
    "import lxml.etree\n",
    "import os\n",
    "from glob import glob"
   ]
  },
  {
   "cell_type": "code",
   "execution_count": 48,
   "metadata": {
    "collapsed": false
   },
   "outputs": [],
   "source": [
    "thisdir = os.listdir()\n",
    "\n",
    "if 'data' not in thisdir: \n",
    "    raise Exception(\"Can't find data directory.\")\n",
    "    \n",
    "textdirs = os.listdir('data')"
   ]
  },
  {
   "cell_type": "code",
   "execution_count": 106,
   "metadata": {
    "collapsed": false
   },
   "outputs": [],
   "source": [
    "class BLText: \n",
    "    \n",
    "    def __init__(self, textdir): \n",
    "        self.tree = parseMetadata(textdir)\n",
    "        self.title = self.getText('//MODS:title')\n",
    "        self.author = self.getText('//MODS:name[@type=\"personal\"]/MODS:namePart')\n",
    "        print('Directory: ' + textdir)\n",
    "        print('Title: ' + self.title)\n",
    "        print('Author: ' + self.author)\n",
    "        \n",
    "    def parseMetadata(self, textdir):\n",
    "        fullpath = 'data/' + textdir + '/metadata/' + textdir + '.xml'\n",
    "        return lxml.etree.parse(fullpath)\n",
    "    \n",
    "    def getText(self, xpath):\n",
    "        ns = {'MODS': 'http://www.loc.gov/mods/v3'}\n",
    "        out = self.tree.xpath(xpath + '/text()', namespaces=ns)\n",
    "        if isinstance(out, list): \n",
    "            if len(out) == 1: \n",
    "                # No sense having a list of length one. Get just the string. \n",
    "                out = out[0]\n",
    "        return out"
   ]
  },
  {
   "cell_type": "code",
   "execution_count": 109,
   "metadata": {
    "collapsed": false
   },
   "outputs": [
    {
     "name": "stdout",
     "output_type": "stream",
     "text": [
      "Directory: 003233320\n",
      "Title: Echoes of the War. [In verse.]\n",
      "Author: SALMOND, Charles Adamson.\n",
      "\n",
      "\n",
      "Directory: 002670581\n",
      "Title: A popular guide to the Geology of the Isle of Wight, with a note on its relation to that of the Isle of Purbeck ... Illustrated, etc\n",
      "Author: NORMAN, Mark William.\n",
      "\n",
      "\n",
      "Directory: 001718349\n",
      "Title: Die Entwickelung der Stadt Fellin und ihrer Verfassung\n",
      "Author: HOLST, C.\n",
      "\n",
      "\n",
      "Directory: 000624240\n",
      "Title: Chronicles of Casco Bay. [By D. C. Colesworthy.] no. 1\n",
      "Author: COLESWORTHY, Daniel Clement.\n",
      "\n",
      "\n"
     ]
    }
   ],
   "source": [
    "for textdir in textdirs: \n",
    "    BLText(textdir)\n",
    "    print('\\n')"
   ]
  }
 ],
 "metadata": {
  "kernelspec": {
   "display_name": "Python 3",
   "language": "python",
   "name": "python3"
  },
  "language_info": {
   "codemirror_mode": {
    "name": "ipython",
    "version": 3
   },
   "file_extension": ".py",
   "mimetype": "text/x-python",
   "name": "python",
   "nbconvert_exporter": "python",
   "pygments_lexer": "ipython3",
   "version": "3.4.3"
  }
 },
 "nbformat": 4,
 "nbformat_minor": 0
}
