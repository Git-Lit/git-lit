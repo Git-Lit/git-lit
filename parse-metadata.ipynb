{
 "cells": [
  {
   "cell_type": "code",
   "execution_count": 111,
   "metadata": {
    "collapsed": false
   },
   "outputs": [],
   "source": [
    "import lxml.etree\n",
    "import os\n",
    "from IPython.display import display\n",
    "import pandas as pd"
   ]
  },
  {
   "cell_type": "code",
   "execution_count": 178,
   "metadata": {
    "collapsed": false
   },
   "outputs": [],
   "source": [
    "class BLText: \n",
    "    def __init__(self, textdir): \n",
    "        self.textdir = textdir\n",
    "        self.ID = textdir # alias\n",
    "        self.local_path = 'data/' + textdir\n",
    "        self.tree = self.parseMetadata(textdir)\n",
    "        self.title = self.getTitle()\n",
    "        self.author = self.getAuthor() \n",
    "\n",
    "    def parseMetadata(self, textdir):\n",
    "        fullpath = 'data/' + textdir + '/metadata/' + textdir + '.xml'\n",
    "        return lxml.etree.parse(fullpath)\n",
    "    \n",
    "    def getText(self, xpath):\n",
    "        ns = {'MODS': 'http://www.loc.gov/mods/v3'}\n",
    "        out = self.tree.xpath(xpath + '/text()', namespaces=ns)\n",
    "        if isinstance(out, list): \n",
    "            if len(out) == 1: \n",
    "                # No sense having a list of length one. Get just the string. \n",
    "                out = out[0]\n",
    "        return out\n",
    "    \n",
    "    def getTitle(self): \n",
    "        return self.getText('//MODS:title')\n",
    "        \n",
    "    def getAuthor(self): \n",
    "        rawAuthor = self.getText('//MODS:name[@type=\"personal\"]/MODS:namePart')\n",
    "        # TODO: do some transformations to the text here. Get it in the appropriate case. \n",
    "        return rawAuthor"
   ]
  },
  {
   "cell_type": "code",
   "execution_count": 185,
   "metadata": {
    "collapsed": false
   },
   "outputs": [],
   "source": [
    "# A collection of BLText objects. \n",
    "class BLCorpus(): \n",
    "    def __init__(self): \n",
    "        self.readDataDir()\n",
    "        self.makeDataFrame()\n",
    "\n",
    "    def readDataDir(self): \n",
    "        thisdir = os.listdir()\n",
    "        \n",
    "        if 'data' not in thisdir: \n",
    "            raise Exception(\"Can't find data directory.\")\n",
    "\n",
    "        textdirs = os.listdir('data')\n",
    "            \n",
    "        self.texts = [ BLText(textdir) for textdir in textdirs ]\n",
    "        \n",
    "        self.metadata = [ [ text.textdir, text.title, text.author ] for text in self.texts ] \n",
    "    \n",
    "    def makeDataFrame(self): \n",
    "        self.df = pd.DataFrame(self.metadata, columns=['ID', 'Title', 'Author'])\n",
    "        \n",
    "    def show(self): \n",
    "        display(self.df)"
   ]
  },
  {
   "cell_type": "code",
   "execution_count": 201,
   "metadata": {
    "collapsed": false
   },
   "outputs": [
    {
     "data": {
      "text/html": [
       "<div>\n",
       "<table border=\"1\" class=\"dataframe\">\n",
       "  <thead>\n",
       "    <tr style=\"text-align: right;\">\n",
       "      <th></th>\n",
       "      <th>ID</th>\n",
       "      <th>Title</th>\n",
       "      <th>Author</th>\n",
       "    </tr>\n",
       "  </thead>\n",
       "  <tbody>\n",
       "    <tr>\n",
       "      <th>0</th>\n",
       "      <td>003233320</td>\n",
       "      <td>Echoes of the War. [In verse.]</td>\n",
       "      <td>SALMOND, Charles Adamson.</td>\n",
       "    </tr>\n",
       "    <tr>\n",
       "      <th>1</th>\n",
       "      <td>002670581</td>\n",
       "      <td>A popular guide to the Geology of the Isle of ...</td>\n",
       "      <td>NORMAN, Mark William.</td>\n",
       "    </tr>\n",
       "    <tr>\n",
       "      <th>2</th>\n",
       "      <td>001718349</td>\n",
       "      <td>Die Entwickelung der Stadt Fellin und ihrer Ve...</td>\n",
       "      <td>HOLST, C.</td>\n",
       "    </tr>\n",
       "    <tr>\n",
       "      <th>3</th>\n",
       "      <td>000624240</td>\n",
       "      <td>Chronicles of Casco Bay. [By D. C. Colesworthy...</td>\n",
       "      <td>COLESWORTHY, Daniel Clement.</td>\n",
       "    </tr>\n",
       "  </tbody>\n",
       "</table>\n",
       "</div>"
      ],
      "text/plain": [
       "          ID                                              Title  \\\n",
       "0  003233320                     Echoes of the War. [In verse.]   \n",
       "1  002670581  A popular guide to the Geology of the Isle of ...   \n",
       "2  001718349  Die Entwickelung der Stadt Fellin und ihrer Ve...   \n",
       "3  000624240  Chronicles of Casco Bay. [By D. C. Colesworthy...   \n",
       "\n",
       "                         Author  \n",
       "0     SALMOND, Charles Adamson.  \n",
       "1         NORMAN, Mark William.  \n",
       "2                     HOLST, C.  \n",
       "3  COLESWORTHY, Daniel Clement.  "
      ]
     },
     "execution_count": 201,
     "metadata": {},
     "output_type": "execute_result"
    }
   ],
   "source": [
    "c = BLCorpus()\n",
    "c.df"
   ]
  },
  {
   "cell_type": "code",
   "execution_count": 196,
   "metadata": {
    "collapsed": false,
    "scrolled": true
   },
   "outputs": [],
   "source": [
    "\"\"\"\n",
    "Borrowed from GITenburg project. \n",
    "Makes an organized git repo of a book folder.\n",
    "\"\"\"\n",
    "\n",
    "import codecs\n",
    "import logging\n",
    "import os\n",
    "from os.path import abspath, dirname\n",
    "\n",
    "import jinja2\n",
    "import sh\n",
    "\n",
    "import logging\n",
    "logger = logging.getLogger()\n",
    "logger.setLevel(logging.INFO)"
   ]
  },
  {
   "cell_type": "code",
   "execution_count": 197,
   "metadata": {
    "collapsed": true
   },
   "outputs": [],
   "source": [
    "\n",
    "class CdContext():\n",
    "    \"\"\" A context manager using `sh` to cd to a directory and back\n",
    "        `with CdContext(new path to go to)`\n",
    "    \"\"\"\n",
    "    def __init__(self, path):\n",
    "        self._og_directory = str(sh.pwd()).strip('\\n')\n",
    "        self._dest_directory = path\n",
    "\n",
    "    def __enter__(self):\n",
    "        sh.cd(self._dest_directory)\n",
    "\n",
    "    def __exit__(self, exception_type, exception_value, traceback):\n",
    "        sh.cd(self._og_directory)"
   ]
  },
  {
   "cell_type": "code",
   "execution_count": 202,
   "metadata": {
    "collapsed": false
   },
   "outputs": [],
   "source": [
    "IGNORE_FILES = \"\"\n",
    "\n",
    "class LocalRepo():\n",
    "\n",
    "    def __init__(self, book):\n",
    "        self.book = book\n",
    "        logging.info(\"Now attempting to initialize a local git repository for text: \" \n",
    "                      + self.book.ID + \" a.k.a. \" + self.book.title )\n",
    "\n",
    "    def add_file(self, filename):\n",
    "        sh.git('add', filename)\n",
    "\n",
    "    def add_all_files(self):\n",
    "        with CdContext(self.book.local_path):\n",
    "            sh.git.init('.')\n",
    "\n",
    "            logging.debug(\"Files to add: \" + str(sh.ls()))\n",
    "\n",
    "            # NOTE: repo.untracked_files is unreliable with CdContext\n",
    "            # using sh.ls() instead, this doesn't recognize .gitignore\n",
    "            for _file in sh.ls():\n",
    "                for _subpath in _file.split():\n",
    "                    logging.info(\"Adding file: \" + str(_file))\n",
    "\n",
    "                    self.add_file(_subpath)\n",
    "\n",
    "    def commit(self, message):\n",
    "        with CdContext(self.book.local_path):\n",
    "            try:\n",
    "                # note the double quotes around the message\n",
    "                sh.git(\n",
    "                    'commit',\n",
    "                    '-m',\n",
    "                    '\"{message}\"'.format(message=message)\n",
    "                )\n",
    "            except sh.ErrorReturnCode_1:\n",
    "                print(\"Commit aborted for {0} with msg {1}\".format(self.book.book_id, message))\n",
    "\n",
    "\n",
    "class NewFilesHandler():\n",
    "    \"\"\" NewFilesHandler - templates and copies additional files to book repos\n",
    "\n",
    "    \"\"\"\n",
    "    README_FILENAME = 'README.rst'\n",
    "\n",
    "    def __init__(self, book):\n",
    "        self.book = book\n",
    "\n",
    "        package_loader = jinja2.PackageLoader('gitenberg', 'templates')\n",
    "        self.env = jinja2.Environment(loader=package_loader)\n",
    "\n",
    "    def add_new_files(self):\n",
    "        self.template_readme()\n",
    "        self.copy_files()\n",
    "\n",
    "    def template_readme(self):\n",
    "        template = self.env.get_template('README.rst.j2')\n",
    "        readme_text = template.render(\n",
    "            title=self.book.meta.title,\n",
    "            author=self.book.meta.author,\n",
    "            book_id=self.book.book_id\n",
    "        )\n",
    "\n",
    "        readme_path = \"{0}/{1}\".format(\n",
    "            self.book.local_path,\n",
    "            self.README_FILENAME\n",
    "        )\n",
    "        with codecs.open(readme_path, 'w', 'utf-8') as readme_file:\n",
    "            readme_file.write(readme_text)\n",
    "\n",
    "    def copy_files(self):\n",
    "        \"\"\" Copy the LICENSE and CONTRIBUTING files to each folder repo \"\"\"\n",
    "        files = [u'LICENSE', u'CONTRIBUTING.rst']\n",
    "        this_dir = dirname(abspath(__file__))\n",
    "        for _file in files:\n",
    "            sh.cp(\n",
    "                '{0}/templates/{1}'.format(this_dir, _file),\n",
    "                '{0}/'.format(self.book.local_path)\n",
    "            )\n",
    "\n",
    "        # copy metadata rdf file\n",
    "        sh.cp(\n",
    "            self.book.meta.rdf_path,\n",
    "            '{0}/'.format(self.book.local_path)\n",
    "        )\n",
    "\n",
    "\n",
    "def make(book):\n",
    "    # Initial commit of book files\n",
    "    local_repo = LocalRepo(book)\n",
    "    local_repo.add_all_files()\n",
    "    #local_repo.commit(\"Initial import from Project Gutenberg\")\n",
    "\n",
    "    # New files commit\n",
    "    #NewFilesHandler(book)\n",
    "\n",
    "    #local_repo.add_all_files()\n",
    "    #local_repo.commit(\"Adds Readme, contributing and license files to book repo\")\n"
   ]
  },
  {
   "cell_type": "code",
   "execution_count": 203,
   "metadata": {
    "collapsed": false
   },
   "outputs": [
    {
     "data": {
      "text/plain": [
       "<__main__.BLText at 0x7fc642a82358>"
      ]
     },
     "execution_count": 203,
     "metadata": {},
     "output_type": "execute_result"
    }
   ],
   "source": [
    "testtext = c.texts[0]\n",
    "testtext"
   ]
  },
  {
   "cell_type": "code",
   "execution_count": 204,
   "metadata": {
    "collapsed": false
   },
   "outputs": [
    {
     "name": "stderr",
     "output_type": "stream",
     "text": [
      "INFO:root:Now attempting to initialize a local git repository for text: 003233320 a.k.a. Echoes of the War. [In verse.]\n",
      "INFO:sh.command:<Command '/usr/sbin/pwd' call_args {'tty_out': True, 'o...(476 more)>: starting process\n",
      "INFO:sh.command:<Command '/usr/sbin/git init .' call_args {'tty_out': True, 'o...(476 more)>: starting process\n",
      "INFO:sh.command:<Command '/usr/sbin/ls' call_args {'tty_out': True, 'o...(476 more)>: starting process\n",
      "INFO:sh.command:<Command '/usr/sbin/ls' call_args {'tty_out': True, 'o...(476 more)>: starting process\n",
      "INFO:root:Adding file: ALTO  metadata\n",
      "\n",
      "INFO:sh.command:<Command '/usr/sbin/git add AL...(2 more)' call_args {'tty_out': True, 'o...(476 more)>: starting process\n",
      "INFO:root:Adding file: ALTO  metadata\n",
      "\n",
      "INFO:sh.command:<Command '/usr/sbin/git add me...(6 more)' call_args {'tty_out': True, 'o...(476 more)>: starting process\n"
     ]
    }
   ],
   "source": [
    "make(testtext)"
   ]
  },
  {
   "cell_type": "code",
   "execution_count": 13,
   "metadata": {
    "collapsed": false
   },
   "outputs": [
    {
     "ename": "SyntaxError",
     "evalue": "invalid syntax (<ipython-input-13-64321bdbe0a0>, line 1)",
     "output_type": "error",
     "traceback": [
      "\u001b[1;36m  File \u001b[1;32m\"<ipython-input-13-64321bdbe0a0>\"\u001b[1;36m, line \u001b[1;32m1\u001b[0m\n\u001b[1;33m    import 'gitrepo.ipynb'\u001b[0m\n\u001b[1;37m                         ^\u001b[0m\n\u001b[1;31mSyntaxError\u001b[0m\u001b[1;31m:\u001b[0m invalid syntax\n"
     ]
    }
   ],
   "source": [
    "# Borrowed from the GITenberg project\n",
    "\n",
    "\"\"\"\n",
    "Syncs a local git book repo to a remote git repo (by default, github)\n",
    "\"\"\"\n",
    "\n",
    "import logging\n",
    "from re import sub\n",
    "import time\n",
    "\n",
    "import github3\n",
    "import sh\n",
    "\n",
    "from .util.catalog import CdContext\n",
    "try:\n",
    "    from .secrets import GH_USER, GH_PASSWORD\n",
    "except:\n",
    "    print(\"no secrets file found, continuing without\")\n",
    "\n",
    "\n",
    "class GithubRepo():\n",
    "\n",
    "    def __init__(self, book):\n",
    "        self.book = book\n",
    "        self.create_api_handler()\n",
    "\n",
    "    def create_and_push(self):\n",
    "        self.create_repo()\n",
    "        self.add_remote_origin_to_local_repo()\n",
    "        self.push_to_github()\n",
    "\n",
    "    def create_api_handler(self):\n",
    "        \"\"\" Creates an api handler and sets it on self \"\"\"\n",
    "        self.github = github3.login(username=GH_USER, password=GH_PASSWORD)\n",
    "        if hasattr(self.github, 'set_user_agent'):\n",
    "            self.github.set_user_agent('Project GITenberg: https://gitenberg.github.io/')\n",
    "        self.org = self.github.organization(login='GITenberg')\n",
    "        # FIXME: logging\n",
    "        print(\"ratelimit: \" + str(self.org.ratelimit_remaining))\n",
    "\n",
    "    def format_desc(self):\n",
    "        return u'{0} by {1}\\n is a Project Gutenberg book, now on Github.'.format(\n",
    "            self.book.meta.title, self.book.meta.author\n",
    "        )\n",
    "\n",
    "    def format_title(self):\n",
    "        \"\"\" Takes a string and sanitizes it for Github's url name format \"\"\"\n",
    "        _title = sub(\"[ ',]+\", '-', self.book.meta.title)\n",
    "        title_length = 99 - len(str(self.book.book_id)) - 1\n",
    "        if len(_title) > title_length:\n",
    "            # if the title was shortened, replace the trailing _ with an ellipsis\n",
    "            repo_title = \"{0}__{1}\".format(_title[:title_length], self.book.book_id)\n",
    "        else:\n",
    "            repo_title = \"{0}_{1}\".format(_title[:title_length], self.book.book_id)\n",
    "        # FIXME: log debug, title creation\n",
    "        print(len(repo_title), repo_title)\n",
    "        return repo_title\n",
    "\n",
    "    def create_repo(self):\n",
    "        self.repo = self.org.create_repo(\n",
    "            self.format_title(),\n",
    "            description=self.format_desc(),\n",
    "            homepage=u'https://GITenberg.github.io/',\n",
    "            private=False,\n",
    "            has_issues=True,\n",
    "            has_wiki=False,\n",
    "            has_downloads=True\n",
    "        )\n",
    "\n",
    "    def add_remote_origin_to_local_repo(self):\n",
    "        with CdContext(self.book.local_path):\n",
    "            try:\n",
    "                sh.git('remote', 'add', 'origin', self.repo.ssh_url)\n",
    "            except sh.ErrorReturnCode_128:\n",
    "                print(\"We may have already added a remote origin to this repo\")\n",
    "\n",
    "    def push_to_github(self):\n",
    "        with CdContext(self.book.local_path):\n",
    "            try:\n",
    "                sh.git('push', 'origin', 'master')\n",
    "            except sh.ErrorReturnCode_128:\n",
    "                logging.error(u\"github repo not ready yet\")\n",
    "                time.sleep(10)\n",
    "                sh.git('push', 'origin', 'master')"
   ]
  }
 ],
 "metadata": {
  "kernelspec": {
   "display_name": "Python 3",
   "language": "python",
   "name": "python3"
  },
  "language_info": {
   "codemirror_mode": {
    "name": "ipython",
    "version": 3
   },
   "file_extension": ".py",
   "mimetype": "text/x-python",
   "name": "python",
   "nbconvert_exporter": "python",
   "pygments_lexer": "ipython3",
   "version": "3.4.3"
  }
 },
 "nbformat": 4,
 "nbformat_minor": 0
}
