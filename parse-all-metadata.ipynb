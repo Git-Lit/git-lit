{
 "cells": [
  {
   "cell_type": "code",
   "execution_count": 13,
   "metadata": {
    "collapsed": false
   },
   "outputs": [],
   "source": [
    "# coding: utf-8\n",
    "\n",
    "import lxml.etree\n",
    "import os\n",
    "from IPython.display import display\n",
    "import pandas as pd\n",
    "import sh\n",
    "import re"
   ]
  },
  {
   "cell_type": "code",
   "execution_count": 22,
   "metadata": {
    "collapsed": true
   },
   "outputs": [],
   "source": [
    "class BLText:\n",
    "    FLICKR_TEMPLATE = 'https://www.flickr.com/photos/britishlibrary/tags/sysnum%s'\n",
    "    # template below is magic - stolen from Flickr entry for BL photos\n",
    "    BRITLIB_TEMPLATE = 'http://explore.bl.uk/primo_library/libweb/action/search.do?cs=frb&doc=BLL01%s&dscnt=1&scp.scps=scope:(BLCONTENT)&frbg=&tab=local_tab&srt=rank&ct=search&mode=Basic&dum=true&tb=t&indx=1&vl(freeText0)=%s&fn=search&vid=BLVU1'\n",
    "    NAMESPACES = {'MODS': 'http://www.loc.gov/mods/v3'}\n",
    "    \n",
    "    def __init__(self, metadatafile): \n",
    "        self.metadatafile = metadatafile\n",
    "        self.tree = lxml.etree.parse(self.metadatafile)\n",
    "        \n",
    "    def parseMetadata(self):\n",
    "        return \n",
    "    \n",
    "    def getText(self, xpath):\n",
    "        out = self.tree.xpath(xpath + '/text()', namespaces=BLText.NAMESPACES)\n",
    "        if isinstance(out, list): \n",
    "            if len(out) == 1: \n",
    "                # No sense having a list of length one. Get just the string. \n",
    "                out = out[0]\n",
    "        return out\n",
    "    \n",
    "    @property\n",
    "    def title(self):\n",
    "        # TODO enable caching of this result\n",
    "        return self.getText('//MODS:title')\n",
    "        \n",
    "#    def getTitle(self): \n",
    "#        return self.getText('//MODS:title')\n",
    "        \n",
    "    @property\n",
    "    def author(self): \n",
    "        rawAuthor = self.getText('//MODS:name[@type=\"personal\"]/MODS:namePart')\n",
    "        # TODO: do some transformations to the text here. Get it in the appropriate case. \n",
    "        return rawAuthor\n",
    "\n",
    "    @property\n",
    "    def githubTitle(self):\n",
    "        oldTitle = self.title\n",
    "        textID = self.ID\n",
    "        idLength = len(textID)\n",
    "        oldTitle = re.sub(r'[^\\w\\s-]','',oldTitle)\n",
    "        titleNoSpace = oldTitle.replace(' ','-')\n",
    "        ## need uniRecode function\n",
    "        newTitle = titleNoSpace[:100-idLength]+textID\n",
    "        return newTitle\n",
    "        \n",
    "        \n",
    "# A collection of BLText objects. \n",
    "class BLCorpus(): \n",
    "    def __init__(self, corpusDir):\n",
    "        self.baseDir = corpusDir\n",
    "        self.texts = []\n",
    "        self.readDataDir()\n",
    "        self.makeDataFrame()\n",
    "\n",
    "    def readDataDir(self): \n",
    "        textdirs = os.listdir(self.baseDir)\n",
    "        self.texts = [ BLText(os.path.join(self.baseDir,textdir)) for textdir in textdirs ]\n",
    "        self.metadata = [ [ text.ID, text.title, text.author, text.githubTitle ] for text in self.texts ] \n",
    "    \n",
    "    def makeDataFrame(self): \n",
    "        self.df = pd.DataFrame(self.metadata, columns=['ID', 'Title', 'Author', 'GitHub Title'])\n",
    "        \n",
    "    def show(self): \n",
    "        display(self.df)\n",
    "\n",
    "#c = BLCorpus('data2')\n",
    "#c.df\n",
    "#c.texts[0].textdir\n"
   ]
  },
  {
   "cell_type": "code",
   "execution_count": 27,
   "metadata": {
    "collapsed": false
   },
   "outputs": [],
   "source": [
    "test = BLText('metadata/metadata-files/000000037_metadata.xml')"
   ]
  },
  {
   "cell_type": "code",
   "execution_count": 32,
   "metadata": {
    "collapsed": false
   },
   "outputs": [
    {
     "data": {
      "text/plain": [
       "'A Gossip about Old Manchester. With illustrations. [Signed: A.]'"
      ]
     },
     "execution_count": 32,
     "metadata": {},
     "output_type": "execute_result"
    }
   ],
   "source": [
    "test.title"
   ]
  },
  {
   "cell_type": "code",
   "execution_count": null,
   "metadata": {
    "collapsed": true
   },
   "outputs": [],
   "source": []
  }
 ],
 "metadata": {
  "kernelspec": {
   "display_name": "Python 3",
   "language": "python",
   "name": "python3"
  },
  "language_info": {
   "codemirror_mode": {
    "name": "ipython",
    "version": 3
   },
   "file_extension": ".py",
   "mimetype": "text/x-python",
   "name": "python",
   "nbconvert_exporter": "python",
   "pygments_lexer": "ipython3",
   "version": "3.5.0"
  }
 },
 "nbformat": 4,
 "nbformat_minor": 0
}
