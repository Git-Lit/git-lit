{
 "cells": [
  {
   "cell_type": "code",
   "execution_count": 20,
   "metadata": {
    "collapsed": false
   },
   "outputs": [],
   "source": [
    "import lxml.etree\n",
    "import os\n",
    "from IPython.display import display\n",
    "import pandas as pd\n",
    "import sh"
   ]
  },
  {
   "cell_type": "code",
   "execution_count": 21,
   "metadata": {
    "collapsed": false
   },
   "outputs": [],
   "source": [
    "class BLText:\n",
    "    FLICKR_TEMPLATE = 'https://www.flickr.com/photos/britishlibrary/tags/sysnum%s'\n",
    "    # template below is magic - stolen from Flickr entry for BL photos\n",
    "    BRITLIB_TEMPLATE = 'http://explore.bl.uk/primo_library/libweb/action/search.do?cs=frb&doc=BLL01%s&dscnt=1&scp.scps=scope:(BLCONTENT)&frbg=&tab=local_tab&srt=rank&ct=search&mode=Basic&dum=true&tb=t&indx=1&vl(freeText0)=%s&fn=search&vid=BLVU1'\n",
    "    NAMESPACES = {'MODS': 'http://www.loc.gov/mods/v3'}\n",
    "    \n",
    "    def __init__(self, textdir): \n",
    "        self.textdir = textdir\n",
    "        self.ID = os.path.basename(textdir) # alias\n",
    "        self.book_id = self.ID # another alias. TODO: simplify this\n",
    "        self.tree = self.parseMetadata(textdir)\n",
    "        self.author = self.getAuthor()\n",
    "        self.flickrURL =  BLText.FLICKR_TEMPLATE % self.ID\n",
    "        self.britLibURL = BLText.BRITLIB_TEMPLATE % (self.ID, self.ID)\n",
    "\n",
    "    def parseMetadata(self, textdir):\n",
    "        fullpath = textdir + '/' + self.ID + '_metadata.xml'\n",
    "        return lxml.etree.parse(fullpath)\n",
    "    \n",
    "    def getText(self, xpath):\n",
    "        out = self.tree.xpath(xpath + '/text()', namespaces=BLText.NAMESPACES)\n",
    "        if isinstance(out, list): \n",
    "            if len(out) == 1: \n",
    "                # No sense having a list of length one. Get just the string. \n",
    "                out = out[0]\n",
    "        return out\n",
    "    \n",
    "    @property\n",
    "    def title(self):\n",
    "        # TODO enable caching of this result\n",
    "        return self.getText('//MODS:title')\n",
    "        \n",
    "#    def getTitle(self): \n",
    "#        return self.getText('//MODS:title')\n",
    "        \n",
    "    def getAuthor(self): \n",
    "        rawAuthor = self.getText('//MODS:name[@type=\"personal\"]/MODS:namePart')\n",
    "        # TODO: do some transformations to the text here. Get it in the appropriate case. \n",
    "        return rawAuthor"
   ]
  },
  {
   "cell_type": "code",
   "execution_count": 22,
   "metadata": {
    "collapsed": false
   },
   "outputs": [],
   "source": [
    "# A collection of BLText objects. \n",
    "class BLCorpus(): \n",
    "    def __init__(self, corpusDir):\n",
    "        self.baseDir = corpusDir\n",
    "        self.texts = []\n",
    "        self.readDataDir()\n",
    "        self.makeDataFrame()\n",
    "\n",
    "    def readDataDir(self): \n",
    "        textdirs = os.listdir(self.baseDir)\n",
    "        self.texts = [ BLText(os.path.join(self.baseDir,textdir)) for textdir in textdirs ]\n",
    "        self.metadata = [ [ text.ID, text.title, text.author ] for text in self.texts ] \n",
    "    \n",
    "    def makeDataFrame(self): \n",
    "        self.df = pd.DataFrame(self.metadata, columns=['ID', 'Title', 'Author'])\n",
    "        \n",
    "    def show(self): \n",
    "        display(self.df)"
   ]
  },
  {
   "cell_type": "code",
   "execution_count": 23,
   "metadata": {
    "collapsed": false
   },
   "outputs": [
    {
     "data": {
      "text/html": [
       "<div>\n",
       "<table border=\"1\" class=\"dataframe\">\n",
       "  <thead>\n",
       "    <tr style=\"text-align: right;\">\n",
       "      <th></th>\n",
       "      <th>ID</th>\n",
       "      <th>Title</th>\n",
       "      <th>Author</th>\n",
       "    </tr>\n",
       "  </thead>\n",
       "  <tbody>\n",
       "    <tr>\n",
       "      <th>0</th>\n",
       "      <td>000000037</td>\n",
       "      <td>A Gossip about Old Manchester. With illustrati...</td>\n",
       "      <td>[]</td>\n",
       "    </tr>\n",
       "    <tr>\n",
       "      <th>1</th>\n",
       "      <td>000000206</td>\n",
       "      <td>Walter Forbes. [A novel.] By A. A</td>\n",
       "      <td>[A. A., FORBES, Walter.]</td>\n",
       "    </tr>\n",
       "    <tr>\n",
       "      <th>2</th>\n",
       "      <td>000000196</td>\n",
       "      <td>Poetical Aviary, with a bird's-eye view of the...</td>\n",
       "      <td>A. A.</td>\n",
       "    </tr>\n",
       "    <tr>\n",
       "      <th>3</th>\n",
       "      <td>000000216</td>\n",
       "      <td>All for Greed. [A novel. The dedication signed...</td>\n",
       "      <td>[A., A. A., BLAZE DE BURY, Marie Pauline Rose,...</td>\n",
       "    </tr>\n",
       "  </tbody>\n",
       "</table>\n",
       "</div>"
      ],
      "text/plain": [
       "          ID                                              Title  \\\n",
       "0  000000037  A Gossip about Old Manchester. With illustrati...   \n",
       "1  000000206                  Walter Forbes. [A novel.] By A. A   \n",
       "2  000000196  Poetical Aviary, with a bird's-eye view of the...   \n",
       "3  000000216  All for Greed. [A novel. The dedication signed...   \n",
       "\n",
       "                                              Author  \n",
       "0                                                 []  \n",
       "1                           [A. A., FORBES, Walter.]  \n",
       "2                                              A. A.  \n",
       "3  [A., A. A., BLAZE DE BURY, Marie Pauline Rose,...  "
      ]
     },
     "execution_count": 23,
     "metadata": {},
     "output_type": "execute_result"
    }
   ],
   "source": [
    "c = BLCorpus('data2')\n",
    "c.df"
   ]
  },
  {
   "cell_type": "code",
   "execution_count": 24,
   "metadata": {
    "collapsed": false
   },
   "outputs": [
    {
     "data": {
      "text/plain": [
       "'data2/000000037'"
      ]
     },
     "execution_count": 24,
     "metadata": {},
     "output_type": "execute_result"
    }
   ],
   "source": [
    "c.texts[0].textdir"
   ]
  },
  {
   "cell_type": "code",
   "execution_count": 25,
   "metadata": {
    "collapsed": false,
    "scrolled": true
   },
   "outputs": [],
   "source": [
    "\"\"\"\n",
    "Borrowed from GITenburg project. \n",
    "Makes an organized git repo of a book folder.\n",
    "\"\"\"\n",
    "\n",
    "import codecs\n",
    "import logging\n",
    "import os\n",
    "from os.path import abspath, dirname\n",
    "\n",
    "import jinja2\n",
    "import sh\n",
    "\n",
    "import logging\n",
    "logger = logging.getLogger()\n",
    "logger.setLevel(logging.INFO)"
   ]
  },
  {
   "cell_type": "code",
   "execution_count": 26,
   "metadata": {
    "collapsed": true
   },
   "outputs": [],
   "source": [
    "\n",
    "class CdContext():\n",
    "    \"\"\" A context manager using `sh` to cd to a directory and back\n",
    "        `with CdContext(new path to go to)`\n",
    "    \"\"\"\n",
    "    def __init__(self, path):\n",
    "        self._og_directory = str(sh.pwd()).strip('\\n')\n",
    "        self._dest_directory = path\n",
    "\n",
    "    def __enter__(self):\n",
    "        sh.cd(self._dest_directory)\n",
    "\n",
    "    def __exit__(self, exception_type, exception_value, traceback):\n",
    "        sh.cd(self._og_directory)"
   ]
  },
  {
   "cell_type": "code",
   "execution_count": 27,
   "metadata": {
    "collapsed": false
   },
   "outputs": [],
   "source": [
    "IGNORE_FILES = \"\"\n",
    "\n",
    "class LocalRepo():\n",
    "\n",
    "    def __init__(self, book):\n",
    "        self.book = book\n",
    "        logging.info(\"Now attempting to initialize a local git repository for text: \" \n",
    "                      + self.book.ID + \" a.k.a. \" + self.book.title )\n",
    "\n",
    "    def add_file(self, filename):\n",
    "        sh.git('add', filename)\n",
    "\n",
    "    def add_all_files(self):\n",
    "        with CdContext(self.book.textdir):\n",
    "            sh.git.init('.')\n",
    "\n",
    "            logging.debug(\"Files to add: \" + str(sh.ls()))\n",
    "\n",
    "            # NOTE: repo.untracked_files is unreliable with CdContext\n",
    "            # using sh.ls() instead, this doesn't recognize .gitignore\n",
    "            for _file in sh.ls():\n",
    "                for _subpath in _file.split():\n",
    "                    logging.info(\"Adding file: \" + str(_file))\n",
    "\n",
    "                    self.add_file(_subpath)\n",
    "\n",
    "    def commit(self, message):\n",
    "        with CdContext(self.book.textdir):\n",
    "            try:\n",
    "                # note the double quotes around the message\n",
    "                sh.git(\n",
    "                    'commit',\n",
    "                    '-m',\n",
    "                    '{message}'.format(message=message)\n",
    "                )\n",
    "            except sh.ErrorReturnCode_1:\n",
    "                print(\"Commit aborted for {0} with msg {1}\".format(self.book.book_id, message))\n",
    "\n",
    "\n",
    "class NewFilesHandler():\n",
    "    \"\"\" NewFilesHandler - templates and copies additional files to book repos\n",
    "    \"\"\"\n",
    "\n",
    "    def __init__(self, book):\n",
    "        self.book = book\n",
    "        self.add_new_files()\n",
    "\n",
    "    def add_new_files(self):\n",
    "        self.template_readme()\n",
    "        self.copy_files()\n",
    "\n",
    "    def template_readme(self):\n",
    "        templateFile = open('templates/README.md.j2').read()\n",
    "        template = jinja2.Template(templateFile)\n",
    "        readme_text = template.render(\n",
    "            title=self.book.title,\n",
    "            author=self.book.author,\n",
    "            book_id=self.book.ID\n",
    "        )\n",
    "\n",
    "        readme_path = \"{0}/{1}\".format(\n",
    "            self.book.textdir,\n",
    "            'README.md'\n",
    "        )\n",
    "        with codecs.open(readme_path, 'w', 'utf-8') as readme_file:\n",
    "            readme_file.write(readme_text)\n",
    "\n",
    "    def copy_files(self):\n",
    "        \"\"\" Copy the LICENSE and CONTRIBUTING files to each folder repo \"\"\"\n",
    "        files = ['LICENSE.md', 'CONTRIBUTING.md']\n",
    "        this_dir = sh.pwd().strip()\n",
    "        for _file in files:\n",
    "            sh.cp(\n",
    "                '{0}/templates/{1}'.format(this_dir, _file),\n",
    "                '{0}/'.format(self.book.textdir)\n",
    "            )\n",
    "\n",
    "def make(book):\n",
    "    # Initial commit of book files\n",
    "    local_repo = LocalRepo(book)\n",
    "    local_repo.add_all_files()\n",
    "    local_repo.commit(\"initial import from British Library originals.\")\n",
    "\n",
    "    # New files commit\n",
    "    NewFilesHandler(book)\n",
    "\n",
    "    local_repo.add_all_files()\n",
    "    local_repo.commit(\"add readme, contributing and license files to book repo\")\n",
    "    "
   ]
  },
  {
   "cell_type": "code",
   "execution_count": 28,
   "metadata": {
    "collapsed": false
   },
   "outputs": [
    {
     "data": {
      "text/plain": [
       "<__main__.BLText at 0x7f63f9db22b0>"
      ]
     },
     "execution_count": 28,
     "metadata": {},
     "output_type": "execute_result"
    }
   ],
   "source": [
    "testtext = c.texts[0]\n",
    "testtext"
   ]
  },
  {
   "cell_type": "code",
   "execution_count": 29,
   "metadata": {
    "collapsed": false
   },
   "outputs": [
    {
     "data": {
      "text/plain": [
       "[<__main__.BLText at 0x7f63f9db22b0>,\n",
       " <__main__.BLText at 0x7f63f9db2390>,\n",
       " <__main__.BLText at 0x7f63f9db2320>,\n",
       " <__main__.BLText at 0x7f63f9db2400>]"
      ]
     },
     "execution_count": 29,
     "metadata": {},
     "output_type": "execute_result"
    }
   ],
   "source": [
    "c.texts"
   ]
  },
  {
   "cell_type": "code",
   "execution_count": 19,
   "metadata": {
    "collapsed": false
   },
   "outputs": [
    {
     "name": "stderr",
     "output_type": "stream",
     "text": [
      "INFO:root:Now attempting to initialize a local git repository for text: 000000037 a.k.a. A Gossip about Old Manchester. With illustrations. [Signed: A.]\n",
      "INFO:sh.command:<Command '/usr/sbin/pwd' call_args {'tee': None, 'in': ...(495 more)>: starting process\n",
      "INFO:sh.command:<Command '/usr/sbin/git init .' call_args {'tee': None, 'in': ...(495 more)>: starting process\n",
      "INFO:sh.command:<Command '/usr/sbin/ls' call_args {'tee': None, 'in': ...(495 more)>: starting process\n",
      "INFO:sh.command:<Command '/usr/sbin/ls' call_args {'tee': None, 'in': ...(495 more)>: starting process\n",
      "INFO:root:Adding file: 000000037_0_1-42pgs__944211_dat.zip  000000218_metadata.xml\n",
      "\n",
      "INFO:sh.command:<Command '/usr/sbin/git add 00...(33 more)' call_args {'tee': None, 'in': ...(495 more)>: starting process\n",
      "INFO:root:Adding file: 000000037_0_1-42pgs__944211_dat.zip  000000218_metadata.xml\n",
      "\n",
      "INFO:sh.command:<Command '/usr/sbin/git add 00...(20 more)' call_args {'tee': None, 'in': ...(495 more)>: starting process\n",
      "INFO:root:Adding file: 000000037_metadata.xml\t\t     ALTO\n",
      "\n",
      "INFO:sh.command:<Command '/usr/sbin/git add 00...(20 more)' call_args {'tee': None, 'in': ...(495 more)>: starting process\n",
      "INFO:root:Adding file: 000000037_metadata.xml\t\t     ALTO\n",
      "\n",
      "INFO:sh.command:<Command '/usr/sbin/git add AL...(2 more)' call_args {'tee': None, 'in': ...(495 more)>: starting process\n",
      "INFO:sh.command:<Command '/usr/sbin/pwd' call_args {'tee': None, 'in': ...(495 more)>: starting process\n",
      "INFO:sh.command:<Command '/usr/sbin/git commit...(50 more)' call_args {'tee': None, 'in': ...(495 more)>: starting process\n",
      "INFO:sh.command:<Command '/usr/sbin/pwd' call_args {'tee': None, 'in': ...(495 more)>: starting process\n",
      "INFO:sh.command:<Command '/usr/sbin/cp /home/j...(66 more)' call_args {'tee': None, 'in': ...(495 more)>: starting process\n",
      "INFO:sh.command:<Command '/usr/sbin/cp /home/j...(71 more)' call_args {'tee': None, 'in': ...(495 more)>: starting process\n",
      "INFO:sh.command:<Command '/usr/sbin/pwd' call_args {'tee': None, 'in': ...(495 more)>: starting process\n",
      "INFO:sh.command:<Command '/usr/sbin/git init .' call_args {'tee': None, 'in': ...(495 more)>: starting process\n",
      "INFO:sh.command:<Command '/usr/sbin/ls' call_args {'tee': None, 'in': ...(495 more)>: starting process\n",
      "INFO:sh.command:<Command '/usr/sbin/ls' call_args {'tee': None, 'in': ...(495 more)>: starting process\n",
      "INFO:root:Adding file: 000000037_0_1-42pgs__944211_dat.zip  ALTO\t      README.md\n",
      "\n",
      "INFO:sh.command:<Command '/usr/sbin/git add 00...(33 more)' call_args {'tee': None, 'in': ...(495 more)>: starting process\n",
      "INFO:root:Adding file: 000000037_0_1-42pgs__944211_dat.zip  ALTO\t      README.md\n",
      "\n",
      "INFO:sh.command:<Command '/usr/sbin/git add AL...(2 more)' call_args {'tee': None, 'in': ...(495 more)>: starting process\n",
      "INFO:root:Adding file: 000000037_0_1-42pgs__944211_dat.zip  ALTO\t      README.md\n",
      "\n",
      "INFO:sh.command:<Command '/usr/sbin/git add RE...(7 more)' call_args {'tee': None, 'in': ...(495 more)>: starting process\n",
      "INFO:root:Adding file: 000000037_metadata.xml\t\t     CONTRIBUTING.md\n",
      "\n",
      "INFO:sh.command:<Command '/usr/sbin/git add 00...(20 more)' call_args {'tee': None, 'in': ...(495 more)>: starting process\n",
      "INFO:root:Adding file: 000000037_metadata.xml\t\t     CONTRIBUTING.md\n",
      "\n",
      "INFO:sh.command:<Command '/usr/sbin/git add CO...(13 more)' call_args {'tee': None, 'in': ...(495 more)>: starting process\n",
      "INFO:root:Adding file: 000000218_metadata.xml\t\t     LICENSE.md\n",
      "\n",
      "INFO:sh.command:<Command '/usr/sbin/git add 00...(20 more)' call_args {'tee': None, 'in': ...(495 more)>: starting process\n",
      "INFO:root:Adding file: 000000218_metadata.xml\t\t     LICENSE.md\n",
      "\n",
      "INFO:sh.command:<Command '/usr/sbin/git add LI...(8 more)' call_args {'tee': None, 'in': ...(495 more)>: starting process\n",
      "INFO:sh.command:<Command '/usr/sbin/pwd' call_args {'tee': None, 'in': ...(495 more)>: starting process\n",
      "INFO:sh.command:<Command '/usr/sbin/git commit...(59 more)' call_args {'tee': None, 'in': ...(495 more)>: starting process\n"
     ]
    }
   ],
   "source": []
  },
  {
   "cell_type": "code",
   "execution_count": 30,
   "metadata": {
    "collapsed": false
   },
   "outputs": [
    {
     "name": "stderr",
     "output_type": "stream",
     "text": [
      "INFO:root:Now attempting to initialize a local git repository for text: 000000037 a.k.a. A Gossip about Old Manchester. With illustrations. [Signed: A.]\n",
      "INFO:sh.command:<Command '/usr/sbin/pwd' call_args {'tee': None, 'in': ...(495 more)>: starting process\n",
      "INFO:sh.command:<Command '/usr/sbin/git init .' call_args {'tee': None, 'in': ...(495 more)>: starting process\n",
      "INFO:sh.command:<Command '/usr/sbin/ls' call_args {'tee': None, 'in': ...(495 more)>: starting process\n",
      "INFO:sh.command:<Command '/usr/sbin/ls' call_args {'tee': None, 'in': ...(495 more)>: starting process\n",
      "INFO:root:Adding file: 000000037_0_1-42pgs__944211_dat.zip  000000218_metadata.xml\n",
      "\n",
      "INFO:sh.command:<Command '/usr/sbin/git add 00...(33 more)' call_args {'tee': None, 'in': ...(495 more)>: starting process\n",
      "INFO:root:Adding file: 000000037_0_1-42pgs__944211_dat.zip  000000218_metadata.xml\n",
      "\n",
      "INFO:sh.command:<Command '/usr/sbin/git add 00...(20 more)' call_args {'tee': None, 'in': ...(495 more)>: starting process\n",
      "INFO:root:Adding file: 000000037_metadata.xml\t\t     ALTO\n",
      "\n",
      "INFO:sh.command:<Command '/usr/sbin/git add 00...(20 more)' call_args {'tee': None, 'in': ...(495 more)>: starting process\n",
      "INFO:root:Adding file: 000000037_metadata.xml\t\t     ALTO\n",
      "\n",
      "INFO:sh.command:<Command '/usr/sbin/git add AL...(2 more)' call_args {'tee': None, 'in': ...(495 more)>: starting process\n",
      "INFO:sh.command:<Command '/usr/sbin/pwd' call_args {'tee': None, 'in': ...(495 more)>: starting process\n",
      "INFO:sh.command:<Command '/usr/sbin/git commit...(50 more)' call_args {'tee': None, 'in': ...(495 more)>: starting process\n",
      "INFO:sh.command:<Command '/usr/sbin/pwd' call_args {'tee': None, 'in': ...(495 more)>: starting process\n",
      "INFO:sh.command:<Command '/usr/sbin/cp /home/j...(66 more)' call_args {'tee': None, 'in': ...(495 more)>: starting process\n",
      "INFO:sh.command:<Command '/usr/sbin/cp /home/j...(71 more)' call_args {'tee': None, 'in': ...(495 more)>: starting process\n",
      "INFO:sh.command:<Command '/usr/sbin/pwd' call_args {'tee': None, 'in': ...(495 more)>: starting process\n",
      "INFO:sh.command:<Command '/usr/sbin/git init .' call_args {'tee': None, 'in': ...(495 more)>: starting process\n",
      "INFO:sh.command:<Command '/usr/sbin/ls' call_args {'tee': None, 'in': ...(495 more)>: starting process\n",
      "INFO:sh.command:<Command '/usr/sbin/ls' call_args {'tee': None, 'in': ...(495 more)>: starting process\n",
      "INFO:root:Adding file: 000000037_0_1-42pgs__944211_dat.zip  ALTO\t      README.md\n",
      "\n",
      "INFO:sh.command:<Command '/usr/sbin/git add 00...(33 more)' call_args {'tee': None, 'in': ...(495 more)>: starting process\n",
      "INFO:root:Adding file: 000000037_0_1-42pgs__944211_dat.zip  ALTO\t      README.md\n",
      "\n",
      "INFO:sh.command:<Command '/usr/sbin/git add AL...(2 more)' call_args {'tee': None, 'in': ...(495 more)>: starting process\n",
      "INFO:root:Adding file: 000000037_0_1-42pgs__944211_dat.zip  ALTO\t      README.md\n",
      "\n",
      "INFO:sh.command:<Command '/usr/sbin/git add RE...(7 more)' call_args {'tee': None, 'in': ...(495 more)>: starting process\n",
      "INFO:root:Adding file: 000000037_metadata.xml\t\t     CONTRIBUTING.md\n",
      "\n",
      "INFO:sh.command:<Command '/usr/sbin/git add 00...(20 more)' call_args {'tee': None, 'in': ...(495 more)>: starting process\n",
      "INFO:root:Adding file: 000000037_metadata.xml\t\t     CONTRIBUTING.md\n",
      "\n",
      "INFO:sh.command:<Command '/usr/sbin/git add CO...(13 more)' call_args {'tee': None, 'in': ...(495 more)>: starting process\n",
      "INFO:root:Adding file: 000000218_metadata.xml\t\t     LICENSE.md\n",
      "\n",
      "INFO:sh.command:<Command '/usr/sbin/git add 00...(20 more)' call_args {'tee': None, 'in': ...(495 more)>: starting process\n",
      "INFO:root:Adding file: 000000218_metadata.xml\t\t     LICENSE.md\n",
      "\n",
      "INFO:sh.command:<Command '/usr/sbin/git add LI...(8 more)' call_args {'tee': None, 'in': ...(495 more)>: starting process\n",
      "INFO:sh.command:<Command '/usr/sbin/pwd' call_args {'tee': None, 'in': ...(495 more)>: starting process\n",
      "INFO:sh.command:<Command '/usr/sbin/git commit...(59 more)' call_args {'tee': None, 'in': ...(495 more)>: starting process\n",
      "INFO:root:Now attempting to initialize a local git repository for text: 000000206 a.k.a. Walter Forbes. [A novel.] By A. A\n",
      "INFO:sh.command:<Command '/usr/sbin/pwd' call_args {'tee': None, 'in': ...(495 more)>: starting process\n",
      "INFO:sh.command:<Command '/usr/sbin/git init .' call_args {'tee': None, 'in': ...(495 more)>: starting process\n",
      "INFO:sh.command:<Command '/usr/sbin/ls' call_args {'tee': None, 'in': ...(495 more)>: starting process\n",
      "INFO:sh.command:<Command '/usr/sbin/ls' call_args {'tee': None, 'in': ...(495 more)>: starting process\n",
      "INFO:root:Adding file: 000000206_0_1-256pgs__594984_dat.zip  000000206_metadata.xml  ALTO\n",
      "\n",
      "INFO:sh.command:<Command '/usr/sbin/git add 00...(34 more)' call_args {'tee': None, 'in': ...(495 more)>: starting process\n",
      "INFO:root:Adding file: 000000206_0_1-256pgs__594984_dat.zip  000000206_metadata.xml  ALTO\n",
      "\n",
      "INFO:sh.command:<Command '/usr/sbin/git add 00...(20 more)' call_args {'tee': None, 'in': ...(495 more)>: starting process\n",
      "INFO:root:Adding file: 000000206_0_1-256pgs__594984_dat.zip  000000206_metadata.xml  ALTO\n",
      "\n",
      "INFO:sh.command:<Command '/usr/sbin/git add AL...(2 more)' call_args {'tee': None, 'in': ...(495 more)>: starting process\n",
      "INFO:sh.command:<Command '/usr/sbin/pwd' call_args {'tee': None, 'in': ...(495 more)>: starting process\n",
      "INFO:sh.command:<Command '/usr/sbin/git commit...(50 more)' call_args {'tee': None, 'in': ...(495 more)>: starting process\n",
      "INFO:sh.command:<Command '/usr/sbin/pwd' call_args {'tee': None, 'in': ...(495 more)>: starting process\n",
      "INFO:sh.command:<Command '/usr/sbin/cp /home/j...(66 more)' call_args {'tee': None, 'in': ...(495 more)>: starting process\n",
      "INFO:sh.command:<Command '/usr/sbin/cp /home/j...(71 more)' call_args {'tee': None, 'in': ...(495 more)>: starting process\n",
      "INFO:sh.command:<Command '/usr/sbin/pwd' call_args {'tee': None, 'in': ...(495 more)>: starting process\n",
      "INFO:sh.command:<Command '/usr/sbin/git init .' call_args {'tee': None, 'in': ...(495 more)>: starting process\n",
      "INFO:sh.command:<Command '/usr/sbin/ls' call_args {'tee': None, 'in': ...(495 more)>: starting process\n",
      "INFO:sh.command:<Command '/usr/sbin/ls' call_args {'tee': None, 'in': ...(495 more)>: starting process\n",
      "INFO:root:Adding file: 000000206_0_1-256pgs__594984_dat.zip  ALTO\t       LICENSE.md\n",
      "\n",
      "INFO:sh.command:<Command '/usr/sbin/git add 00...(34 more)' call_args {'tee': None, 'in': ...(495 more)>: starting process\n",
      "INFO:root:Adding file: 000000206_0_1-256pgs__594984_dat.zip  ALTO\t       LICENSE.md\n",
      "\n",
      "INFO:sh.command:<Command '/usr/sbin/git add AL...(2 more)' call_args {'tee': None, 'in': ...(495 more)>: starting process\n",
      "INFO:root:Adding file: 000000206_0_1-256pgs__594984_dat.zip  ALTO\t       LICENSE.md\n",
      "\n",
      "INFO:sh.command:<Command '/usr/sbin/git add LI...(8 more)' call_args {'tee': None, 'in': ...(495 more)>: starting process\n",
      "INFO:root:Adding file: 000000206_metadata.xml\t\t      CONTRIBUTING.md  README.md\n",
      "\n",
      "INFO:sh.command:<Command '/usr/sbin/git add 00...(20 more)' call_args {'tee': None, 'in': ...(495 more)>: starting process\n",
      "INFO:root:Adding file: 000000206_metadata.xml\t\t      CONTRIBUTING.md  README.md\n",
      "\n",
      "INFO:sh.command:<Command '/usr/sbin/git add CO...(13 more)' call_args {'tee': None, 'in': ...(495 more)>: starting process\n",
      "INFO:root:Adding file: 000000206_metadata.xml\t\t      CONTRIBUTING.md  README.md\n",
      "\n",
      "INFO:sh.command:<Command '/usr/sbin/git add RE...(7 more)' call_args {'tee': None, 'in': ...(495 more)>: starting process\n",
      "INFO:sh.command:<Command '/usr/sbin/pwd' call_args {'tee': None, 'in': ...(495 more)>: starting process\n",
      "INFO:sh.command:<Command '/usr/sbin/git commit...(59 more)' call_args {'tee': None, 'in': ...(495 more)>: starting process\n",
      "INFO:root:Now attempting to initialize a local git repository for text: 000000196 a.k.a. Poetical Aviary, with a bird's-eye view of the English poets. [The preface signed: A. A.] Ms. notes\n",
      "INFO:sh.command:<Command '/usr/sbin/pwd' call_args {'tee': None, 'in': ...(495 more)>: starting process\n",
      "INFO:sh.command:<Command '/usr/sbin/git init .' call_args {'tee': None, 'in': ...(495 more)>: starting process\n",
      "INFO:sh.command:<Command '/usr/sbin/ls' call_args {'tee': None, 'in': ...(495 more)>: starting process\n",
      "INFO:sh.command:<Command '/usr/sbin/ls' call_args {'tee': None, 'in': ...(495 more)>: starting process\n",
      "INFO:root:Adding file: 000000196_0_1-164pgs__1031646_dat.zip  000000196_metadata.xml  ALTO\n",
      "\n",
      "INFO:sh.command:<Command '/usr/sbin/git add 00...(35 more)' call_args {'tee': None, 'in': ...(495 more)>: starting process\n",
      "INFO:root:Adding file: 000000196_0_1-164pgs__1031646_dat.zip  000000196_metadata.xml  ALTO\n",
      "\n",
      "INFO:sh.command:<Command '/usr/sbin/git add 00...(20 more)' call_args {'tee': None, 'in': ...(495 more)>: starting process\n",
      "INFO:root:Adding file: 000000196_0_1-164pgs__1031646_dat.zip  000000196_metadata.xml  ALTO\n",
      "\n",
      "INFO:sh.command:<Command '/usr/sbin/git add AL...(2 more)' call_args {'tee': None, 'in': ...(495 more)>: starting process\n",
      "INFO:sh.command:<Command '/usr/sbin/pwd' call_args {'tee': None, 'in': ...(495 more)>: starting process\n",
      "INFO:sh.command:<Command '/usr/sbin/git commit...(50 more)' call_args {'tee': None, 'in': ...(495 more)>: starting process\n",
      "INFO:sh.command:<Command '/usr/sbin/pwd' call_args {'tee': None, 'in': ...(495 more)>: starting process\n",
      "INFO:sh.command:<Command '/usr/sbin/cp /home/j...(66 more)' call_args {'tee': None, 'in': ...(495 more)>: starting process\n",
      "INFO:sh.command:<Command '/usr/sbin/cp /home/j...(71 more)' call_args {'tee': None, 'in': ...(495 more)>: starting process\n",
      "INFO:sh.command:<Command '/usr/sbin/pwd' call_args {'tee': None, 'in': ...(495 more)>: starting process\n",
      "INFO:sh.command:<Command '/usr/sbin/git init .' call_args {'tee': None, 'in': ...(495 more)>: starting process\n",
      "INFO:sh.command:<Command '/usr/sbin/ls' call_args {'tee': None, 'in': ...(495 more)>: starting process\n",
      "INFO:sh.command:<Command '/usr/sbin/ls' call_args {'tee': None, 'in': ...(495 more)>: starting process\n",
      "INFO:root:Adding file: 000000196_0_1-164pgs__1031646_dat.zip  ALTO\t\tLICENSE.md\n",
      "\n",
      "INFO:sh.command:<Command '/usr/sbin/git add 00...(35 more)' call_args {'tee': None, 'in': ...(495 more)>: starting process\n",
      "INFO:root:Adding file: 000000196_0_1-164pgs__1031646_dat.zip  ALTO\t\tLICENSE.md\n",
      "\n",
      "INFO:sh.command:<Command '/usr/sbin/git add AL...(2 more)' call_args {'tee': None, 'in': ...(495 more)>: starting process\n",
      "INFO:root:Adding file: 000000196_0_1-164pgs__1031646_dat.zip  ALTO\t\tLICENSE.md\n",
      "\n",
      "INFO:sh.command:<Command '/usr/sbin/git add LI...(8 more)' call_args {'tee': None, 'in': ...(495 more)>: starting process\n",
      "INFO:root:Adding file: 000000196_metadata.xml\t\t       CONTRIBUTING.md\tREADME.md\n",
      "\n",
      "INFO:sh.command:<Command '/usr/sbin/git add 00...(20 more)' call_args {'tee': None, 'in': ...(495 more)>: starting process\n",
      "INFO:root:Adding file: 000000196_metadata.xml\t\t       CONTRIBUTING.md\tREADME.md\n",
      "\n",
      "INFO:sh.command:<Command '/usr/sbin/git add CO...(13 more)' call_args {'tee': None, 'in': ...(495 more)>: starting process\n",
      "INFO:root:Adding file: 000000196_metadata.xml\t\t       CONTRIBUTING.md\tREADME.md\n",
      "\n",
      "INFO:sh.command:<Command '/usr/sbin/git add RE...(7 more)' call_args {'tee': None, 'in': ...(495 more)>: starting process\n",
      "INFO:sh.command:<Command '/usr/sbin/pwd' call_args {'tee': None, 'in': ...(495 more)>: starting process\n",
      "INFO:sh.command:<Command '/usr/sbin/git commit...(59 more)' call_args {'tee': None, 'in': ...(495 more)>: starting process\n",
      "INFO:root:Now attempting to initialize a local git repository for text: 000000216 a.k.a. All for Greed. [A novel. The dedication signed: A. A. A., i.e. Marie Pauline Rose, Baroness Blaze de Bury.]\n",
      "INFO:sh.command:<Command '/usr/sbin/pwd' call_args {'tee': None, 'in': ...(495 more)>: starting process\n",
      "INFO:sh.command:<Command '/usr/sbin/git init .' call_args {'tee': None, 'in': ...(495 more)>: starting process\n",
      "INFO:sh.command:<Command '/usr/sbin/ls' call_args {'tee': None, 'in': ...(495 more)>: starting process\n",
      "INFO:sh.command:<Command '/usr/sbin/ls' call_args {'tee': None, 'in': ...(495 more)>: starting process\n",
      "INFO:root:Adding file: 000000216_1_1-318pgs__632698_dat.zip  000000216_metadata.xml  ALTO\n",
      "\n",
      "INFO:sh.command:<Command '/usr/sbin/git add 00...(34 more)' call_args {'tee': None, 'in': ...(495 more)>: starting process\n",
      "INFO:root:Adding file: 000000216_1_1-318pgs__632698_dat.zip  000000216_metadata.xml  ALTO\n",
      "\n",
      "INFO:sh.command:<Command '/usr/sbin/git add 00...(20 more)' call_args {'tee': None, 'in': ...(495 more)>: starting process\n",
      "INFO:root:Adding file: 000000216_1_1-318pgs__632698_dat.zip  000000216_metadata.xml  ALTO\n",
      "\n",
      "INFO:sh.command:<Command '/usr/sbin/git add AL...(2 more)' call_args {'tee': None, 'in': ...(495 more)>: starting process\n",
      "INFO:sh.command:<Command '/usr/sbin/pwd' call_args {'tee': None, 'in': ...(495 more)>: starting process\n",
      "INFO:sh.command:<Command '/usr/sbin/git commit...(50 more)' call_args {'tee': None, 'in': ...(495 more)>: starting process\n",
      "INFO:sh.command:<Command '/usr/sbin/pwd' call_args {'tee': None, 'in': ...(495 more)>: starting process\n",
      "INFO:sh.command:<Command '/usr/sbin/cp /home/j...(66 more)' call_args {'tee': None, 'in': ...(495 more)>: starting process\n",
      "INFO:sh.command:<Command '/usr/sbin/cp /home/j...(71 more)' call_args {'tee': None, 'in': ...(495 more)>: starting process\n",
      "INFO:sh.command:<Command '/usr/sbin/pwd' call_args {'tee': None, 'in': ...(495 more)>: starting process\n",
      "INFO:sh.command:<Command '/usr/sbin/git init .' call_args {'tee': None, 'in': ...(495 more)>: starting process\n",
      "INFO:sh.command:<Command '/usr/sbin/ls' call_args {'tee': None, 'in': ...(495 more)>: starting process\n",
      "INFO:sh.command:<Command '/usr/sbin/ls' call_args {'tee': None, 'in': ...(495 more)>: starting process\n",
      "INFO:root:Adding file: 000000216_1_1-318pgs__632698_dat.zip  ALTO\t       LICENSE.md\n",
      "\n",
      "INFO:sh.command:<Command '/usr/sbin/git add 00...(34 more)' call_args {'tee': None, 'in': ...(495 more)>: starting process\n",
      "INFO:root:Adding file: 000000216_1_1-318pgs__632698_dat.zip  ALTO\t       LICENSE.md\n",
      "\n",
      "INFO:sh.command:<Command '/usr/sbin/git add AL...(2 more)' call_args {'tee': None, 'in': ...(495 more)>: starting process\n",
      "INFO:root:Adding file: 000000216_1_1-318pgs__632698_dat.zip  ALTO\t       LICENSE.md\n",
      "\n",
      "INFO:sh.command:<Command '/usr/sbin/git add LI...(8 more)' call_args {'tee': None, 'in': ...(495 more)>: starting process\n",
      "INFO:root:Adding file: 000000216_metadata.xml\t\t      CONTRIBUTING.md  README.md\n",
      "\n",
      "INFO:sh.command:<Command '/usr/sbin/git add 00...(20 more)' call_args {'tee': None, 'in': ...(495 more)>: starting process\n",
      "INFO:root:Adding file: 000000216_metadata.xml\t\t      CONTRIBUTING.md  README.md\n",
      "\n",
      "INFO:sh.command:<Command '/usr/sbin/git add CO...(13 more)' call_args {'tee': None, 'in': ...(495 more)>: starting process\n",
      "INFO:root:Adding file: 000000216_metadata.xml\t\t      CONTRIBUTING.md  README.md\n",
      "\n",
      "INFO:sh.command:<Command '/usr/sbin/git add RE...(7 more)' call_args {'tee': None, 'in': ...(495 more)>: starting process\n",
      "INFO:sh.command:<Command '/usr/sbin/pwd' call_args {'tee': None, 'in': ...(495 more)>: starting process\n",
      "INFO:sh.command:<Command '/usr/sbin/git commit...(59 more)' call_args {'tee': None, 'in': ...(495 more)>: starting process\n"
     ]
    }
   ],
   "source": [
    "for text in c.texts: \n",
    "    make(text)"
   ]
  },
  {
   "cell_type": "code",
   "execution_count": 32,
   "metadata": {
    "collapsed": false
   },
   "outputs": [
    {
     "ename": "ImportError",
     "evalue": "No module named 'github3'",
     "output_type": "error",
     "traceback": [
      "\u001b[1;31m---------------------------------------------------------------------------\u001b[0m",
      "\u001b[1;31mImportError\u001b[0m                               Traceback (most recent call last)",
      "\u001b[1;32m<ipython-input-32-13c6fb46bb42>\u001b[0m in \u001b[0;36m<module>\u001b[1;34m()\u001b[0m\n\u001b[0;32m      9\u001b[0m \u001b[1;32mimport\u001b[0m \u001b[0mtime\u001b[0m\u001b[1;33m\u001b[0m\u001b[0m\n\u001b[0;32m     10\u001b[0m \u001b[1;33m\u001b[0m\u001b[0m\n\u001b[1;32m---> 11\u001b[1;33m \u001b[1;32mimport\u001b[0m \u001b[0mgithub3\u001b[0m\u001b[1;33m\u001b[0m\u001b[0m\n\u001b[0m\u001b[0;32m     12\u001b[0m \u001b[1;32mimport\u001b[0m \u001b[0msh\u001b[0m\u001b[1;33m\u001b[0m\u001b[0m\n\u001b[0;32m     13\u001b[0m \u001b[1;33m\u001b[0m\u001b[0m\n",
      "\u001b[1;31mImportError\u001b[0m: No module named 'github3'"
     ]
    }
   ],
   "source": [
    "# Borrowed from the GITenberg project\n",
    "\n",
    "\"\"\"\n",
    "Syncs a local git book repo to a remote git repo (by default, github)\n",
    "\"\"\"\n",
    "\n",
    "import logging\n",
    "from re import sub\n",
    "import time\n",
    "\n",
    "import github3\n",
    "import sh\n",
    "\n",
    "try:\n",
    "    from secrets import GH_USER, GH_PASSWORD\n",
    "except:\n",
    "    print(\"no secrets file found, continuing without\")\n",
    "\n",
    "\n",
    "class GithubRepo():\n",
    "\n",
    "    def __init__(self, book):\n",
    "        self.book = book\n",
    "        self.create_api_handler()\n",
    "\n",
    "    def create_and_push(self):\n",
    "        self.create_repo()\n",
    "        self.add_remote_origin_to_local_repo()\n",
    "        self.push_to_github()\n",
    "\n",
    "    def create_api_handler(self):\n",
    "        \"\"\" Creates an api handler and sets it on self \"\"\"\n",
    "        self.github = github3.login(username=GH_USER, password=GH_PASSWORD)\n",
    "        if hasattr(self.github, 'set_user_agent'):\n",
    "            self.github.set_user_agent('Jonathan Reeve: http://jonreeve.com')\n",
    "        self.org = self.github.organization(login='Git-Lit')\n",
    "        # FIXME: logging\n",
    "        print(\"ratelimit: \" + str(self.org.ratelimit_remaining))\n",
    "\n",
    "    def format_desc(self):\n",
    "        return u'{0} by {1} is a British Library book, now on GitHub.'.format(\n",
    "            self.book.title, self.book.author\n",
    "        )\n",
    "\n",
    "    def format_title(self):\n",
    "        return self.book.book_id # Just using the book ID as a title for now. \n",
    "\n",
    "    def create_repo(self):\n",
    "        self.repo = self.org.create_repo(\n",
    "            self.format_title(),\n",
    "            description=self.format_desc(),\n",
    "            homepage=u'https://Git-Lit.github.io/',\n",
    "            private=False,\n",
    "            has_issues=True,\n",
    "            has_wiki=False,\n",
    "            has_downloads=True\n",
    "        )\n",
    "\n",
    "    def add_remote_origin_to_local_repo(self):\n",
    "        with CdContext(self.book.textdir):\n",
    "            try:\n",
    "                sh.git('remote', 'add', 'origin', self.repo.ssh_url)\n",
    "            except sh.ErrorReturnCode_128:\n",
    "                print(\"We may have already added a remote origin to this repo\")\n",
    "\n",
    "    def push_to_github(self):\n",
    "        with CdContext(self.book.textdir):\n",
    "            try:\n",
    "                sh.git('push', 'origin', 'master')\n",
    "            except sh.ErrorReturnCode_128:\n",
    "                logging.error(u\"github repo not ready yet\")\n",
    "                time.sleep(10)\n",
    "                sh.git('push', 'origin', 'master')"
   ]
  },
  {
   "cell_type": "code",
   "execution_count": 77,
   "metadata": {
    "collapsed": false
   },
   "outputs": [
    {
     "ename": "NameError",
     "evalue": "name 'GithubRepo' is not defined",
     "output_type": "error",
     "traceback": [
      "\u001b[1;31m---------------------------------------------------------------------------\u001b[0m",
      "\u001b[1;31mNameError\u001b[0m                                 Traceback (most recent call last)",
      "\u001b[1;32m<ipython-input-77-92ee628fbc25>\u001b[0m in \u001b[0;36m<module>\u001b[1;34m()\u001b[0m\n\u001b[1;32m----> 1\u001b[1;33m \u001b[0mtest\u001b[0m \u001b[1;33m=\u001b[0m \u001b[0mGithubRepo\u001b[0m\u001b[1;33m(\u001b[0m\u001b[0mtesttext\u001b[0m\u001b[1;33m)\u001b[0m\u001b[1;33m\u001b[0m\u001b[0m\n\u001b[0m",
      "\u001b[1;31mNameError\u001b[0m: name 'GithubRepo' is not defined"
     ]
    }
   ],
   "source": [
    "test = GithubRepo(testtext)"
   ]
  },
  {
   "cell_type": "code",
   "execution_count": 50,
   "metadata": {
    "collapsed": false
   },
   "outputs": [
    {
     "ename": "NameError",
     "evalue": "name 'test' is not defined",
     "output_type": "error",
     "traceback": [
      "\u001b[1;31m---------------------------------------------------------------------------\u001b[0m",
      "\u001b[1;31mNameError\u001b[0m                                 Traceback (most recent call last)",
      "\u001b[1;32m<ipython-input-50-f5f0406d57fe>\u001b[0m in \u001b[0;36m<module>\u001b[1;34m()\u001b[0m\n\u001b[1;32m----> 1\u001b[1;33m \u001b[0mtest\u001b[0m\u001b[1;33m.\u001b[0m\u001b[0mcreate_and_push\u001b[0m\u001b[1;33m(\u001b[0m\u001b[1;33m)\u001b[0m\u001b[1;33m\u001b[0m\u001b[0m\n\u001b[0m",
      "\u001b[1;31mNameError\u001b[0m: name 'test' is not defined"
     ]
    }
   ],
   "source": [
    "test.create_and_push()"
   ]
  },
  {
   "cell_type": "code",
   "execution_count": 84,
   "metadata": {
    "collapsed": false
   },
   "outputs": [
    {
     "name": "stdout",
     "output_type": "stream",
     "text": [
      "<__main__.BLText object at 0x7f36dc58d048>\n",
      "<__main__.BLText object at 0x7f36dc814ef0>\n",
      "<__main__.BLText object at 0x7f36dc814f28>\n",
      "<__main__.BLText object at 0x7f36dc58d198>\n"
     ]
    }
   ],
   "source": [
    "for text in c.texts: \n",
    "    print(text)"
   ]
  },
  {
   "cell_type": "code",
   "execution_count": 87,
   "metadata": {
    "collapsed": false
   },
   "outputs": [
    {
     "name": "stderr",
     "output_type": "stream",
     "text": [
      "INFO:github3:Building a url from ('https://api.github.com', 'orgs', 'Git-Lit')\n",
      "INFO:requests.packages.urllib3.connectionpool:Starting new HTTPS connection (1): api.github.com\n",
      "INFO:github3:Attempting to get JSON information from a Response with status code 200 expecting 200\n",
      "INFO:github3:JSON was returned\n",
      "INFO:github3:Attempting to get JSON information from a Response with status code 200 expecting 200\n",
      "INFO:github3:JSON was returned\n",
      "INFO:github3:Building a url from ('https://api.github.com/orgs/Git-Lit', 'repos')\n",
      "INFO:github3:Attempting to get JSON information from a Response with status code 201 expecting 201\n",
      "INFO:github3:JSON was returned\n",
      "INFO:sh.command:<Command '/usr/sbin/pwd' call_args {'in': None, 'bg': F...(476 more)>: starting process\n",
      "INFO:sh.command:<Command '/usr/sbin/git remote...(48 more)' call_args {'in': None, 'bg': F...(476 more)>: starting process\n"
     ]
    },
    {
     "name": "stdout",
     "output_type": "stream",
     "text": [
      "ratelimit: 4975\n",
      "We may have already added a remote origin to this repo"
     ]
    },
    {
     "name": "stderr",
     "output_type": "stream",
     "text": [
      "INFO:sh.command:<Command '/usr/sbin/pwd' call_args {'in': None, 'bg': F...(476 more)>: starting process\n",
      "INFO:sh.command:<Command '/usr/sbin/git push o...(12 more)' call_args {'in': None, 'bg': F...(476 more)>: starting process\n",
      "INFO:github3:Building a url from ('https://api.github.com', 'orgs', 'Git-Lit')\n",
      "INFO:requests.packages.urllib3.connectionpool:Starting new HTTPS connection (1): api.github.com\n",
      "INFO:github3:Attempting to get JSON information from a Response with status code 200 expecting 200\n",
      "INFO:github3:JSON was returned\n",
      "INFO:github3:Attempting to get JSON information from a Response with status code 200 expecting 200\n",
      "INFO:github3:JSON was returned\n"
     ]
    },
    {
     "name": "stdout",
     "output_type": "stream",
     "text": [
      "\n",
      "ratelimit: 4973"
     ]
    },
    {
     "name": "stderr",
     "output_type": "stream",
     "text": [
      "INFO:github3:Building a url from ('https://api.github.com/orgs/Git-Lit', 'repos')\n",
      "INFO:github3:Attempting to get JSON information from a Response with status code 201 expecting 201\n",
      "INFO:github3:JSON was returned\n",
      "INFO:sh.command:<Command '/usr/sbin/pwd' call_args {'in': None, 'bg': F...(476 more)>: starting process\n",
      "INFO:sh.command:<Command '/usr/sbin/git remote...(48 more)' call_args {'in': None, 'bg': F...(476 more)>: starting process\n",
      "INFO:sh.command:<Command '/usr/sbin/pwd' call_args {'in': None, 'bg': F...(476 more)>: starting process\n",
      "INFO:sh.command:<Command '/usr/sbin/git push o...(12 more)' call_args {'in': None, 'bg': F...(476 more)>: starting process\n",
      "INFO:github3:Building a url from ('https://api.github.com', 'orgs', 'Git-Lit')\n",
      "INFO:requests.packages.urllib3.connectionpool:Starting new HTTPS connection (1): api.github.com\n",
      "INFO:github3:Attempting to get JSON information from a Response with status code 200 expecting 200\n",
      "INFO:github3:JSON was returned\n",
      "INFO:github3:Attempting to get JSON information from a Response with status code 200 expecting 200\n",
      "INFO:github3:JSON was returned\n"
     ]
    },
    {
     "name": "stdout",
     "output_type": "stream",
     "text": [
      "\n",
      "ratelimit: 4971"
     ]
    },
    {
     "name": "stderr",
     "output_type": "stream",
     "text": [
      "INFO:github3:Building a url from ('https://api.github.com/orgs/Git-Lit', 'repos')\n",
      "INFO:github3:Attempting to get JSON information from a Response with status code 201 expecting 201\n",
      "INFO:github3:JSON was returned\n",
      "INFO:sh.command:<Command '/usr/sbin/pwd' call_args {'in': None, 'bg': F...(476 more)>: starting process\n",
      "INFO:sh.command:<Command '/usr/sbin/git remote...(48 more)' call_args {'in': None, 'bg': F...(476 more)>: starting process\n",
      "INFO:sh.command:<Command '/usr/sbin/pwd' call_args {'in': None, 'bg': F...(476 more)>: starting process\n",
      "INFO:sh.command:<Command '/usr/sbin/git push o...(12 more)' call_args {'in': None, 'bg': F...(476 more)>: starting process\n",
      "INFO:github3:Building a url from ('https://api.github.com', 'orgs', 'Git-Lit')\n",
      "INFO:requests.packages.urllib3.connectionpool:Starting new HTTPS connection (1): api.github.com\n",
      "INFO:github3:Attempting to get JSON information from a Response with status code 200 expecting 200\n",
      "INFO:github3:JSON was returned\n",
      "INFO:github3:Attempting to get JSON information from a Response with status code 200 expecting 200\n",
      "INFO:github3:JSON was returned\n"
     ]
    },
    {
     "name": "stdout",
     "output_type": "stream",
     "text": [
      "\n",
      "ratelimit: 4969"
     ]
    },
    {
     "name": "stderr",
     "output_type": "stream",
     "text": [
      "INFO:github3:Building a url from ('https://api.github.com/orgs/Git-Lit', 'repos')\n",
      "INFO:github3:Attempting to get JSON information from a Response with status code 201 expecting 201\n",
      "INFO:github3:JSON was returned\n",
      "INFO:sh.command:<Command '/usr/sbin/pwd' call_args {'in': None, 'bg': F...(476 more)>: starting process\n",
      "INFO:sh.command:<Command '/usr/sbin/git remote...(48 more)' call_args {'in': None, 'bg': F...(476 more)>: starting process\n",
      "INFO:sh.command:<Command '/usr/sbin/pwd' call_args {'in': None, 'bg': F...(476 more)>: starting process\n",
      "INFO:sh.command:<Command '/usr/sbin/git push o...(12 more)' call_args {'in': None, 'bg': F...(476 more)>: starting process\n"
     ]
    },
    {
     "name": "stdout",
     "output_type": "stream",
     "text": [
      "\n"
     ]
    }
   ],
   "source": [
    "for text in c.texts: \n",
    "    repo = GithubRepo(text)\n",
    "    repo.create_and_push()"
   ]
  },
  {
   "cell_type": "code",
   "execution_count": null,
   "metadata": {
    "collapsed": true
   },
   "outputs": [],
   "source": []
  }
 ],
 "metadata": {
  "kernelspec": {
   "display_name": "Python 3",
   "language": "python",
   "name": "python3"
  },
  "language_info": {
   "codemirror_mode": {
    "name": "ipython",
    "version": 3
   },
   "file_extension": ".py",
   "mimetype": "text/x-python",
   "name": "python",
   "nbconvert_exporter": "python",
   "pygments_lexer": "ipython3",
   "version": "3.5.0"
  }
 },
 "nbformat": 4,
 "nbformat_minor": 0
}
